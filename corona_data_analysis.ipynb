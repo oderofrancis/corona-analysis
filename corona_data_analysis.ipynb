{
 "cells": [
  {
   "cell_type": "code",
   "execution_count": 31,
   "metadata": {},
   "outputs": [],
   "source": [
    "import pandas as pd"
   ]
  },
  {
   "cell_type": "code",
   "execution_count": 32,
   "metadata": {},
   "outputs": [],
   "source": [
    "confirmed=r'/home/afroteop/Desktop/corona/data/csse_covid_19_time_series_confirmed_global.csv'"
   ]
  },
  {
   "cell_type": "code",
   "execution_count": 33,
   "metadata": {},
   "outputs": [],
   "source": [
    "death=r'/home/afroteop/Desktop/corona/data/time_series_covid19_deaths_global.csv'"
   ]
  },
  {
   "cell_type": "code",
   "execution_count": 34,
   "metadata": {},
   "outputs": [],
   "source": [
    "recovered=r'/home/afroteop/Desktop/corona/data/time_series_covid19_recovered_global.csv'"
   ]
  },
  {
   "cell_type": "code",
   "execution_count": 35,
   "metadata": {},
   "outputs": [],
   "source": [
    "data_confirmed = pd.read_csv(confirmed)"
   ]
  },
  {
   "cell_type": "code",
   "execution_count": 36,
   "metadata": {},
   "outputs": [],
   "source": [
    "data_death = pd.read_csv(death)"
   ]
  },
  {
   "cell_type": "code",
   "execution_count": 37,
   "metadata": {},
   "outputs": [],
   "source": [
    "data_recovered = pd.read_csv(recovered)"
   ]
  },
  {
   "cell_type": "markdown",
   "metadata": {},
   "source": [
    "# Data analysis for confirmed"
   ]
  },
  {
   "cell_type": "code",
   "execution_count": 38,
   "metadata": {},
   "outputs": [],
   "source": [
    "totalconfirmed=data_confirmed[data_confirmed.columns[-1]].sum()\n",
    "data_confirmed = data_confirmed[['Country/Region',data_confirmed.columns[-1]]].groupby('Country/Region').sum()\n",
    "data_confirmed = data_confirmed.reset_index()\n",
    "data_confirmed.columns=['Country/Region','confirmed']\n",
    "data_confirmed = data_confirmed.sort_values(by='confirmed',ascending=False)\n",
    "data_confirmed_values = data_confirmed['confirmed'].values.tolist()\n",
    "data_confirmed_names = data_confirmed['Country/Region'].values.tolist()"
   ]
  },
  {
   "cell_type": "markdown",
   "metadata": {},
   "source": [
    "# Data analysis for death"
   ]
  },
  {
   "cell_type": "code",
   "execution_count": 39,
   "metadata": {},
   "outputs": [],
   "source": [
    "totaldeath=data_death[data_death.columns[-1]].sum()\n",
    "data_death = data_death[['Country/Region',data_death.columns[-1]]].groupby('Country/Region').sum()\n",
    "data_death = data_death.reset_index()\n",
    "data_death.columns=['Country/Region','death']\n",
    "data_death = data_death.sort_values(by='death',ascending=False)\n",
    "data_death_values = data_death['death'].values.tolist()\n",
    "data_death_names = data_death['Country/Region'].values.tolist()"
   ]
  },
  {
   "cell_type": "markdown",
   "metadata": {},
   "source": [
    "# Data analysis for recovery"
   ]
  },
  {
   "cell_type": "code",
   "execution_count": 40,
   "metadata": {},
   "outputs": [],
   "source": [
    "totalrecovered = data_recovered[data_recovered.columns[-1]].sum()\n",
    "data_recovered = data_recovered[['Country/Region',data_recovered.columns[-1]]].groupby('Country/Region').sum()\n",
    "data_recovered = data_recovered.reset_index()\n",
    "data_recovered.columns=['Country/Region','recovered']\n",
    "data_recovered = data_recovered.sort_values(by='recovered',ascending=False)\n",
    "data_recovered_values = data_recovered['recovered'].values.tolist()\n",
    "data_recovered_names = data_recovered['Country/Region'].values.tolist()"
   ]
  },
  {
   "cell_type": "code",
   "execution_count": 41,
   "metadata": {},
   "outputs": [
    {
     "name": "stdout",
     "output_type": "stream",
     "text": [
      "The total confirmed : 9430384\n",
      "The total death : 482752\n",
      "The total recovery : 4746118\n"
     ]
    }
   ],
   "source": [
    "print(\"The total confirmed :\",totalconfirmed )\n",
    "print(\"The total death :\",totaldeath )\n",
    "print(\"The total recovery :\",totalrecovered)"
   ]
  },
  {
   "cell_type": "code",
   "execution_count": 42,
   "metadata": {},
   "outputs": [
    {
     "name": "stdout",
     "output_type": "stream",
     "text": [
      "0.12 % of the world is infected.\n"
     ]
    }
   ],
   "source": [
    "spread_rate = (totalconfirmed / 7874965825)*100\n",
    "spread_rate = round(spread_rate,2)\n",
    "print(spread_rate,\"% of the world is infected.\")"
   ]
  },
  {
   "cell_type": "code",
   "execution_count": 43,
   "metadata": {},
   "outputs": [
    {
     "name": "stdout",
     "output_type": "stream",
     "text": [
      "There is  50.33 % chances of recovery in infected people.\n"
     ]
    }
   ],
   "source": [
    "recovery_rate = (totalrecovered / totalconfirmed )*100\n",
    "recovery_rate = round(recovery_rate,2)\n",
    "print(\"There is \",recovery_rate,\"% chances of recovery in infected people.\")"
   ]
  },
  {
   "cell_type": "code",
   "execution_count": 44,
   "metadata": {},
   "outputs": [
    {
     "name": "stdout",
     "output_type": "stream",
     "text": [
      "There is  5.12 % of death rate in infected people.\n"
     ]
    }
   ],
   "source": [
    "death_rate = (totaldeath / totalconfirmed)*100\n",
    "death_rate = round(death_rate,2)\n",
    "print(\"There is \",death_rate,\"% of death rate in infected people.\")"
   ]
  },
  {
   "cell_type": "markdown",
   "metadata": {},
   "source": [
    "# Combined data analysis codes"
   ]
  },
  {
   "cell_type": "code",
   "execution_count": 45,
   "metadata": {},
   "outputs": [],
   "source": [
    "# combined\n",
    "\n",
    "import pandas as pd\n",
    "\n",
    "# url\n",
    "\n",
    "confirmed=r'/home/afroteop/Desktop/corona/data/csse_covid_19_time_series_confirmed_global.csv'\n",
    "death=r'/home/afroteop/Desktop/corona/data/time_series_covid19_deaths_global.csv'\n",
    "recovered=r'/home/afroteop/Desktop/corona/data/time_series_covid19_recovered_global.csv'\n",
    "\n",
    "# data reading\n",
    "\n",
    "data_confirmed = pd.read_csv(confirmed)\n",
    "data_death = pd.read_csv(death)\n",
    "data_recovered = pd.read_csv(recovered)\n",
    "\n",
    "# data analysis\n",
    "\n",
    "            # confirmed         \n",
    "totalconfirmed=data_confirmed[data_confirmed.columns[-1]].sum()\n",
    "alldata = len(data_confirmed)\n",
    "data_confirmed = data_confirmed[['Country/Region',data_confirmed.columns[-1]]].groupby('Country/Region').sum()\n",
    "data_confirmed = data_confirmed.reset_index()\n",
    "data_confirmed.columns=['Country/Region','confirmed']\n",
    "data_confirmed = data_confirmed.sort_values(by='confirmed',ascending=False)\n",
    "data_confirmed_values = data_confirmed['confirmed'].values.tolist()\n",
    "data_confirmed_names = data_confirmed['Country/Region'].values.tolist()\n",
    "\n",
    "            # death\n",
    "totaldeath=data_death[data_death.columns[-1]].sum()\n",
    "data_death = data_death[['Country/Region',data_death.columns[-1]]].groupby('Country/Region').sum()\n",
    "data_death = data_death.reset_index()\n",
    "data_death.columns=['Country/Region','death']\n",
    "data_death = data_death.sort_values(by='death',ascending=False)\n",
    "data_death_values = data_death['death'].values.tolist()\n",
    "data_death_names = data_death['Country/Region'].values.tolist()\n",
    "\n",
    "            # recovery\n",
    "totalrecovered = data_recovered[data_recovered.columns[-1]].sum()\n",
    "data_recovered = data_recovered[['Country/Region',data_recovered.columns[-1]]].groupby('Country/Region').sum()\n",
    "data_recovered = data_recovered.reset_index()\n",
    "data_recovered.columns=['Country/Region','recovered']\n",
    "data_recovered = data_recovered.sort_values(by='recovered',ascending=False)\n",
    "data_recovered_values = data_recovered['recovered'].values.tolist()\n",
    "data_recovered_names = data_recovered['Country/Region'].values.tolist()\n",
    "\n",
    "\n",
    "recovery_rate = (totalrecovered / totalconfirmed )*100\n",
    "recovery_rate = round(recovery_rate,2)\n",
    "\n",
    "spread_rate = (totalconfirmed / 7874965825)*100\n",
    "spread_rate = round(spread_rate,2)\n",
    "\n",
    "death_rate = (totaldeath / totalconfirmed)*100\n",
    "death_rate = round(death_rate,2)"
   ]
  },
  {
   "cell_type": "code",
   "execution_count": 46,
   "metadata": {},
   "outputs": [
    {
     "data": {
      "text/plain": [
       "266"
      ]
     },
     "execution_count": 46,
     "metadata": {},
     "output_type": "execute_result"
    }
   ],
   "source": [
    "alldata"
   ]
  },
  {
   "cell_type": "code",
   "execution_count": 47,
   "metadata": {},
   "outputs": [
    {
     "name": "stdout",
     "output_type": "stream",
     "text": [
      "The total confirmed : 9430384\n",
      "The total death : 482752\n",
      "The total recovery : 4746118\n"
     ]
    }
   ],
   "source": [
    "# printing\n",
    "\n",
    "print(\"The total confirmed :\",totalconfirmed )\n",
    "print(\"The total death :\",totaldeath )\n",
    "print(\"The total recovery :\",totalrecovered)"
   ]
  },
  {
   "cell_type": "code",
   "execution_count": 48,
   "metadata": {},
   "outputs": [
    {
     "name": "stdout",
     "output_type": "stream",
     "text": [
      "0.12 % of the world is infected.\n"
     ]
    }
   ],
   "source": [
    "print(spread_rate,\"% of the world is infected.\")"
   ]
  },
  {
   "cell_type": "code",
   "execution_count": 49,
   "metadata": {},
   "outputs": [
    {
     "name": "stdout",
     "output_type": "stream",
     "text": [
      "There is  50.33 % chances of recovery in infected people.\n"
     ]
    }
   ],
   "source": [
    "print(\"There is \",recovery_rate,\"% chances of recovery in infected people.\")"
   ]
  },
  {
   "cell_type": "code",
   "execution_count": 50,
   "metadata": {},
   "outputs": [
    {
     "name": "stdout",
     "output_type": "stream",
     "text": [
      "There is  5.12 % of death rate in infected people.\n"
     ]
    }
   ],
   "source": [
    "print(\"There is \",death_rate,\"% of death rate in infected people.\")"
   ]
  },
  {
   "cell_type": "markdown",
   "metadata": {},
   "source": [
    "# ANALYSIS FOR INDIVIDUAL CONTINENT"
   ]
  },
  {
   "cell_type": "code",
   "execution_count": 51,
   "metadata": {},
   "outputs": [],
   "source": [
    "data_csv = pd.read_csv(r'/home/afroteop/Desktop/corona/data/Countries-Continents.csv')\n",
    "\n",
    "# merging the two data\n",
    "data_merge = pd.merge(right=data_csv, left=data_confirmed,\n",
    "                    how='left', right_on='Country', \n",
    "                    left_on='Country/Region')\n",
    "\n",
    "# using pandas to read the merged data\n",
    "data_merge = pd.DataFrame(data_merge)"
   ]
  },
  {
   "cell_type": "code",
   "execution_count": 52,
   "metadata": {},
   "outputs": [],
   "source": [
    "pd.set_option('display.max_rows', data_merge.shape[0]+1)\n",
    "# data_merge"
   ]
  },
  {
   "cell_type": "markdown",
   "metadata": {},
   "source": [
    "# CONFIRMED CASES"
   ]
  },
  {
   "cell_type": "markdown",
   "metadata": {},
   "source": [
    "# Africa"
   ]
  },
  {
   "cell_type": "code",
   "execution_count": 53,
   "metadata": {},
   "outputs": [],
   "source": [
    "africa = data_merge[data_merge['Continent']=='Africa']\n",
    "africa_total = africa[africa.columns[1]].sum()\n",
    "africa = africa[['Country/Region',africa.columns[1]]].groupby('Country/Region').sum()\n",
    "africa = africa.reset_index()\n",
    "africa = africa.sort_values(by='confirmed',ascending=False)\n",
    "africa_values = africa['confirmed'].values.tolist()\n",
    "africa_names = africa['Country/Region'].values.tolist()"
   ]
  },
  {
   "cell_type": "markdown",
   "metadata": {},
   "source": [
    "# Asia"
   ]
  },
  {
   "cell_type": "code",
   "execution_count": 54,
   "metadata": {},
   "outputs": [],
   "source": [
    "asia = data_merge[data_merge['Continent']=='Asia']\n",
    "asia_total = asia[asia.columns[1]].sum()\n",
    "asia = asia[['Country/Region',asia.columns[1]]].groupby('Country/Region').sum()\n",
    "asia = asia.reset_index()\n",
    "asia = asia.sort_values(by='confirmed',ascending=False)\n",
    "asia_values = asia['confirmed'].values.tolist()\n",
    "asia_names = asia['Country/Region'].values.tolist()"
   ]
  },
  {
   "cell_type": "markdown",
   "metadata": {},
   "source": [
    "# Europe"
   ]
  },
  {
   "cell_type": "code",
   "execution_count": 55,
   "metadata": {},
   "outputs": [],
   "source": [
    "europe = data_merge[data_merge['Continent']=='Europe']\n",
    "europe_total = europe[europe.columns[1]].sum()\n",
    "europe = europe[['Country/Region',europe.columns[1]]].groupby('Country/Region').sum()\n",
    "europe = europe.reset_index()\n",
    "europe = europe.sort_values(by='confirmed',ascending=False)\n",
    "europe_values = europe['confirmed'].values.tolist()\n",
    "europe_names = europe['Country/Region'].values.tolist()"
   ]
  },
  {
   "cell_type": "markdown",
   "metadata": {},
   "source": [
    "# South America"
   ]
  },
  {
   "cell_type": "code",
   "execution_count": 56,
   "metadata": {},
   "outputs": [],
   "source": [
    "south_america = data_merge[data_merge['Continent']=='South America']\n",
    "south_america_total = south_america[south_america.columns[1]].sum()\n",
    "south_america  = south_america [['Country/Region',south_america .columns[1]]].groupby('Country/Region').sum()\n",
    "south_america  = south_america .reset_index()\n",
    "south_america  = south_america .sort_values(by='confirmed',ascending=False)\n",
    "south_america_values = south_america ['confirmed'].values.tolist()\n",
    "south_america_names = south_america ['Country/Region'].values.tolist()"
   ]
  },
  {
   "cell_type": "markdown",
   "metadata": {},
   "source": [
    "# North America"
   ]
  },
  {
   "cell_type": "code",
   "execution_count": 57,
   "metadata": {},
   "outputs": [],
   "source": [
    "north_america = data_merge[data_merge['Continent']=='North America']\n",
    "north_america_total = north_america[north_america.columns[1]].sum()\n",
    "north_america  = north_america[['Country/Region',north_america .columns[1]]].groupby('Country/Region').sum()\n",
    "north_america  = north_america.reset_index()\n",
    "north_america  = north_america.sort_values(by='confirmed',ascending=False)\n",
    "north_america_values = north_america['confirmed'].values.tolist()\n",
    "north_america_names = north_america['Country/Region'].values.tolist()"
   ]
  },
  {
   "cell_type": "markdown",
   "metadata": {},
   "source": [
    "# Oceania"
   ]
  },
  {
   "cell_type": "code",
   "execution_count": 58,
   "metadata": {},
   "outputs": [],
   "source": [
    "oceania = data_merge[data_merge['Continent']=='Oceania']\n",
    "oceania_total = oceania[oceania.columns[1]].sum()\n",
    "oceania  = oceania [['Country/Region',oceania .columns[1]]].groupby('Country/Region').sum()\n",
    "oceania  = oceania .reset_index()\n",
    "oceania  = oceania .sort_values(by='confirmed',ascending=False)\n",
    "oceania_values = oceania['confirmed'].values.tolist()\n",
    "oceania_names = oceania['Country/Region'].values.tolist()"
   ]
  },
  {
   "cell_type": "markdown",
   "metadata": {},
   "source": [
    "# DEATH CASES"
   ]
  },
  {
   "cell_type": "code",
   "execution_count": 59,
   "metadata": {},
   "outputs": [],
   "source": [
    "data_csv_death = pd.read_csv(r'/home/afroteop/Desktop/corona/data/Countries-Continents.csv')\n",
    "# merging the two data\n",
    "data_merge_death = pd.merge(right=data_csv_death, left=data_death,\n",
    "                         how='left', right_on='Country', \n",
    "                         left_on='Country/Region'\n",
    "                         )\n",
    "\n",
    "# using pandas to read the merged data\n",
    "data_merge_death = pd.DataFrame(data_merge_death)"
   ]
  },
  {
   "cell_type": "markdown",
   "metadata": {},
   "source": [
    "# Africa"
   ]
  },
  {
   "cell_type": "code",
   "execution_count": 60,
   "metadata": {},
   "outputs": [],
   "source": [
    "africa_death = data_merge_death[data_merge_death['Continent']=='Africa']\n",
    "africa_death_total = africa_death[africa_death.columns[1]].sum()\n",
    "africa_death = africa_death[['Country/Region',africa_death.columns[1]]].groupby('Country/Region').sum()\n",
    "africa_death = africa_death.reset_index()\n",
    "africa_death.columns=['Country/Region','death']\n",
    "africa_death = africa_death.sort_values(by='death',ascending=False)\n",
    "africa_death_values = africa_death['death'].values.tolist()\n",
    "africa_death_names = africa_death['Country/Region'].values.tolist()"
   ]
  },
  {
   "cell_type": "markdown",
   "metadata": {},
   "source": [
    "# Asia"
   ]
  },
  {
   "cell_type": "code",
   "execution_count": 61,
   "metadata": {},
   "outputs": [],
   "source": [
    "asia_death = data_merge_death[data_merge_death['Continent']=='Asia']\n",
    "asia_death_total = asia_death[asia_death.columns[1]].sum()\n",
    "asia_death = asia_death[['Country/Region',asia_death.columns[1]]].groupby('Country/Region').sum()\n",
    "asia_death = asia_death.reset_index()\n",
    "asia_death.columns=['Country/Region','death']\n",
    "asia_death = asia_death.sort_values(by='death',ascending=False)\n",
    "asia_death_values = asia_death['death'].values.tolist()\n",
    "asia_death_names = asia_death['Country/Region'].values.tolist()"
   ]
  },
  {
   "cell_type": "markdown",
   "metadata": {},
   "source": [
    "# Europe"
   ]
  },
  {
   "cell_type": "code",
   "execution_count": 62,
   "metadata": {},
   "outputs": [],
   "source": [
    "europe_death = data_merge_death[data_merge_death['Continent']=='Europe']\n",
    "europe_death_total = europe_death[europe_death.columns[1]].sum()\n",
    "europe_death = europe_death[['Country/Region',europe_death.columns[1]]].groupby('Country/Region').sum()\n",
    "europe_death = europe_death.reset_index()\n",
    "europe_death.columns=['Country/Region','death']\n",
    "europe_death = europe_death.sort_values(by='death',ascending=False)\n",
    "europe_death_values = europe_death['death'].values.tolist()\n",
    "europe_death_names = europe_death['Country/Region'].values.tolist()"
   ]
  },
  {
   "cell_type": "markdown",
   "metadata": {},
   "source": [
    "# South America"
   ]
  },
  {
   "cell_type": "code",
   "execution_count": 63,
   "metadata": {},
   "outputs": [],
   "source": [
    "south_america_death = data_merge_death[data_merge_death['Continent']=='South America']\n",
    "south_america_death_total = south_america_death[south_america_death.columns[1]].sum()\n",
    "south_america_death = south_america_death[['Country/Region',south_america_death.columns[1]]].groupby('Country/Region').sum()\n",
    "south_america_death = south_america_death.reset_index()\n",
    "south_america_death.columns=['Country/Region','death']\n",
    "south_america_death = south_america_death.sort_values(by='death',ascending=False)\n",
    "south_america_death_values = south_america_death['death'].values.tolist()\n",
    "south_america_death_names = south_america_death['Country/Region'].values.tolist()"
   ]
  },
  {
   "cell_type": "markdown",
   "metadata": {},
   "source": [
    "# North America"
   ]
  },
  {
   "cell_type": "code",
   "execution_count": 64,
   "metadata": {},
   "outputs": [],
   "source": [
    "north_america_death = data_merge_death[data_merge_death['Continent']=='North America']\n",
    "north_america_death_total = south_america_death[south_america_death.columns[1]].sum()\n",
    "north_america_death = north_america_death[['Country/Region',north_america_death.columns[1]]].groupby('Country/Region').sum()\n",
    "north_america_death = north_america_death.reset_index()\n",
    "north_america_death.columns=['Country/Region','death']\n",
    "north_america_death = north_america_death.sort_values(by='death',ascending=False)\n",
    "north_america_death_values = north_america_death['death'].values.tolist()\n",
    "north_america_death_names = north_america_death['Country/Region'].values.tolist()"
   ]
  },
  {
   "cell_type": "markdown",
   "metadata": {},
   "source": [
    "# Oceania"
   ]
  },
  {
   "cell_type": "code",
   "execution_count": 65,
   "metadata": {},
   "outputs": [],
   "source": [
    "oceania_death = data_merge_death[data_merge_death['Continent']=='Oceania']\n",
    "oceania_death_total = oceania_death[oceania_death.columns[1]].sum()\n",
    "oceania_death  = oceania_death [['Country/Region',oceania_death.columns[1]]].groupby('Country/Region').sum()\n",
    "oceania_death  = oceania_death .reset_index()\n",
    "oceania_death  = oceania_death .sort_values(by='death',ascending=False)\n",
    "oceania_death_values = oceania_death['death'].values.tolist()\n",
    "oceania_death_names = oceania_death['Country/Region'].values.tolist()"
   ]
  },
  {
   "cell_type": "markdown",
   "metadata": {},
   "source": [
    "# RECOVERY CASES"
   ]
  },
  {
   "cell_type": "code",
   "execution_count": 66,
   "metadata": {},
   "outputs": [],
   "source": [
    "data_csv_recovery = pd.read_csv(r'/home/afroteop/Desktop/corona/data/Countries-Continents.csv')\n",
    "# merging the two data\n",
    "data_merge_recovered = pd.merge(right=data_csv_death, left=data_recovered,\n",
    "                         how='left', right_on='Country', \n",
    "                         left_on='Country/Region'\n",
    "                         )\n",
    "\n",
    "# using pandas to read the merged data\n",
    "data_merge_recovered = pd.DataFrame(data_merge_recovered)"
   ]
  },
  {
   "cell_type": "markdown",
   "metadata": {},
   "source": [
    "# Africa"
   ]
  },
  {
   "cell_type": "code",
   "execution_count": 67,
   "metadata": {},
   "outputs": [],
   "source": [
    "africa_recover = data_merge_recovered[data_merge_recovered['Continent']=='Africa']\n",
    "africa_recover_total = africa_recover[africa_recover.columns[1]].sum()\n",
    "africa_recover = africa_recover[['Country/Region',africa_recover.columns[1]]].groupby('Country/Region').sum()\n",
    "africa_recover = africa_recover.reset_index()\n",
    "africa_recover.columns=['Country/Region','recover']\n",
    "africa_recover = africa_recover.sort_values(by='recover',ascending=False)\n",
    "africa_recover_values = africa_recover['recover'].values.tolist()\n",
    "africa_recover_names = africa_recover['Country/Region'].values.tolist()"
   ]
  },
  {
   "cell_type": "markdown",
   "metadata": {},
   "source": [
    "# Asia"
   ]
  },
  {
   "cell_type": "code",
   "execution_count": 69,
   "metadata": {},
   "outputs": [],
   "source": [
    "asia_recover = data_merge_recovered[data_merge_recovered['Continent']=='Asia']\n",
    "asia_recover_total = asia_recover[asia_recover.columns[1]].sum()\n",
    "asia_recover = asia_recover[['Country/Region',asia_recover.columns[1]]].groupby('Country/Region').sum()\n",
    "asia_recover = asia_recover.reset_index()\n",
    "asia_recover.columns=['Country/Region','recover']\n",
    "asia_recover = asia_recover.sort_values(by='recover',ascending=False)\n",
    "asia_recover_values = asia_recover['recover'].values.tolist()\n",
    "asia_recover_names = asia_recover['Country/Region'].values.tolist()"
   ]
  },
  {
   "cell_type": "markdown",
   "metadata": {},
   "source": [
    "# Europe"
   ]
  },
  {
   "cell_type": "code",
   "execution_count": 39,
   "metadata": {},
   "outputs": [],
   "source": [
    "europe_recover = data_merge_recovered[data_merge_recovered['Continent']=='Europe']\n",
    "europe_recover_total = europe_recover[europe_recover.columns[1]].sum()\n",
    "europe_recover = europe_recover[['Country/Region',europe_recover.columns[1]]].groupby('Country/Region').sum()\n",
    "europe_recover = europe_recover.reset_index()\n",
    "europe_recover.columns=['Country/Region','recover']\n",
    "europe_recover = europe_recover.sort_values(by='recover',ascending=False)\n",
    "europe_recover_values = europe_recover['recover'].values.tolist()\n",
    "europe_recover_names = europe_recover['Country/Region'].values.tolist()"
   ]
  },
  {
   "cell_type": "markdown",
   "metadata": {},
   "source": [
    "# South America"
   ]
  },
  {
   "cell_type": "code",
   "execution_count": 40,
   "metadata": {},
   "outputs": [],
   "source": [
    "south_america_recover = data_merge_recovered[data_merge_recovered['Continent']=='South America']\n",
    "south_america_recover_total = south_america_recover[south_america_recover.columns[1]].sum()\n",
    "south_america_recover = south_america_recover[['Country/Region',south_america_recover.columns[1]]].groupby('Country/Region').sum()\n",
    "south_america_recover = south_america_recover.reset_index()\n",
    "south_america_recover.columns=['Country/Region','recover']\n",
    "south_america_recover = south_america_recover.sort_values(by='recover',ascending=False)\n",
    "south_america_recover_values = south_america_recover['recover'].values.tolist()\n",
    "south_america_recover_names = south_america_recover['Country/Region'].values.tolist()"
   ]
  },
  {
   "cell_type": "markdown",
   "metadata": {},
   "source": [
    "# North America"
   ]
  },
  {
   "cell_type": "code",
   "execution_count": 41,
   "metadata": {},
   "outputs": [],
   "source": [
    "north_america_recover = data_merge_recovered[data_merge_recovered['Continent']=='North America']\n",
    "north_america_recover_total = north_america_recover[north_america_recover.columns[1]].sum()\n",
    "north_america_recover = north_america_recover[['Country/Region',north_america_recover.columns[1]]].groupby('Country/Region').sum()\n",
    "north_america_recover = north_america_recover.reset_index()\n",
    "north_america_recover.columns=['Country/Region','recover']\n",
    "north_america_recover = north_america_recover.sort_values(by='recover',ascending=False)\n",
    "north_america_recover_values = north_america_recover['recover'].values.tolist()\n",
    "north_america_recover_names = north_america_recover['Country/Region'].values.tolist()"
   ]
  },
  {
   "cell_type": "markdown",
   "metadata": {},
   "source": [
    "# Oceania"
   ]
  },
  {
   "cell_type": "code",
   "execution_count": 42,
   "metadata": {},
   "outputs": [],
   "source": [
    "oceania_recover = data_merge_recovered[data_merge_recovered['Continent']=='Oceania']\n",
    "oceania_recover_total = oceania_recover[oceania_recover.columns[1]].sum()\n",
    "oceania_recover = oceania_recover[['Country/Region',oceania_recover.columns[1]]].groupby('Country/Region').sum()\n",
    "oceania_recover = oceania_recover.reset_index()\n",
    "oceania_recover.columns=['Country/Region','recover']\n",
    "oceania_recover = oceania_recover.sort_values(by='recover',ascending=False)\n",
    "oceania_recover_values = oceania_recover['recover'].values.tolist()\n",
    "oceania_recover_names = oceania_recover['Country/Region'].values.tolist()"
   ]
  },
  {
   "cell_type": "markdown",
   "metadata": {},
   "source": [
    "# Rates per continent"
   ]
  },
  {
   "cell_type": "code",
   "execution_count": 43,
   "metadata": {},
   "outputs": [],
   "source": [
    "africa_pop = 1366615222 \n",
    "asia_pop = 4673362272\n",
    "europe_pop = 748008331\n",
    "south_america_pop = 658715917\n",
    "north_america_pop = 370721616\n",
    "oceania_pop = 43123223"
   ]
  },
  {
   "cell_type": "code",
   "execution_count": 44,
   "metadata": {},
   "outputs": [],
   "source": [
    "total = (africa_pop + asia_pop + south_america_pop + north_america_pop + oceania_pop + europe_pop)"
   ]
  },
  {
   "cell_type": "markdown",
   "metadata": {},
   "source": [
    "# World rates"
   ]
  },
  {
   "cell_type": "code",
   "execution_count": 45,
   "metadata": {},
   "outputs": [],
   "source": [
    "spread_rate = (totalconfirmed / total)*100\n",
    "spread_rate = round(spread_rate,2)\n",
    "\n",
    "recovery_rate = (totalrecovered / totalconfirmed )*100\n",
    "recovery_rate = round(recovery_rate,2)\n",
    "\n",
    "death_rate = (totaldeath / totalconfirmed)*100\n",
    "death_rate = round(death_rate,2)"
   ]
  },
  {
   "cell_type": "code",
   "execution_count": 46,
   "metadata": {},
   "outputs": [
    {
     "data": {
      "text/plain": [
       "5.12"
      ]
     },
     "execution_count": 46,
     "metadata": {},
     "output_type": "execute_result"
    }
   ],
   "source": [
    "death_rate "
   ]
  },
  {
   "cell_type": "markdown",
   "metadata": {},
   "source": [
    "# Africa"
   ]
  },
  {
   "cell_type": "code",
   "execution_count": 47,
   "metadata": {},
   "outputs": [],
   "source": [
    "africa_spread_rate = (africa_total / africa_pop )*100\n",
    "africa_spread_rate = round(spread_rate,2)\n",
    "\n",
    "africa_recovery_rate = (africa_recover_total/africa_total)*100\n",
    "africa_recovery_rate =round(africa_recovery_rate,2)\n",
    "\n",
    "africa_death_rate = (africa_death_total / africa_total)*100\n",
    "africa_death_rate = round(africa_death_rate,2)"
   ]
  },
  {
   "cell_type": "markdown",
   "metadata": {},
   "source": [
    "# Asia"
   ]
  },
  {
   "cell_type": "code",
   "execution_count": 48,
   "metadata": {},
   "outputs": [],
   "source": [
    "asia_spread_rate = (asia_total / asia_pop )*100\n",
    "asia_spread_rate = round(spread_rate,2)\n",
    "\n",
    "asia_recovery_rate = (asia_recover_total/asia_total)*100\n",
    "asia_recovery_rate =round(asia_recovery_rate,2)\n",
    "\n",
    "asia_death_rate = (asia_death_total / asia_total)*100\n",
    "asia_death_rate = round(asia_death_rate,2)"
   ]
  },
  {
   "cell_type": "markdown",
   "metadata": {},
   "source": [
    "# Europe"
   ]
  },
  {
   "cell_type": "code",
   "execution_count": 49,
   "metadata": {},
   "outputs": [],
   "source": [
    "europe_spread_rate = (europe_total / europe_pop )*100\n",
    "europe_spread_rate = round(spread_rate,2)\n",
    "\n",
    "europe_recovery_rate = (europe_recover_total/europe_total)*100\n",
    "europe_recovery_rate =round(europe_recovery_rate,2)\n",
    "\n",
    "europe_death_rate = (europe_death_total / europe_total)*100\n",
    "europe_death_rate = round(europe_death_rate,2)"
   ]
  },
  {
   "cell_type": "markdown",
   "metadata": {},
   "source": [
    "# South America"
   ]
  },
  {
   "cell_type": "code",
   "execution_count": 50,
   "metadata": {},
   "outputs": [],
   "source": [
    "south_america_spread_rate = (south_america_total / south_america_pop )*100\n",
    "south_america_spread_rate = round(spread_rate,2)\n",
    "\n",
    "south_america_recovery_rate = (south_america_recover_total/south_america_total)*100\n",
    "south_america_recovery_rate =round(south_america_recovery_rate,2)\n",
    "\n",
    "south_america_death_rate = (south_america_death_total / south_america_total)*100\n",
    "south_america_death_rate = round(south_america_death_rate,2)"
   ]
  },
  {
   "cell_type": "markdown",
   "metadata": {},
   "source": [
    "# North America"
   ]
  },
  {
   "cell_type": "code",
   "execution_count": 51,
   "metadata": {},
   "outputs": [],
   "source": [
    "north_america_spread_rate = (north_america_total / north_america_pop )*100\n",
    "north_america_spread_rate = round(spread_rate,2)\n",
    "\n",
    "north_america_recovery_rate = (north_america_recover_total/north_america_total)*100\n",
    "north_america_recovery_rate =round(south_america_recovery_rate,2)\n",
    "\n",
    "north_america_death_rate = (north_america_death_total / north_america_total)*100\n",
    "north_america_death_rate = round(north_america_death_rate,2)"
   ]
  },
  {
   "cell_type": "markdown",
   "metadata": {},
   "source": [
    "# Oceania"
   ]
  },
  {
   "cell_type": "code",
   "execution_count": 52,
   "metadata": {},
   "outputs": [],
   "source": [
    "oceania_spread_rate = (oceania_total / oceania_pop )*100\n",
    "oceania_spread_rate = round(spread_rate,2)\n",
    "\n",
    "oceania_recovery_rate = (oceania_recover_total / oceania_total)*100\n",
    "oceania_recovery_rate =round(asia_recovery_rate,2)\n",
    "\n",
    "oceania_death_rate = (oceania_death_total / oceania_total)*100\n",
    "oceania_death_rate = round(oceania_death_rate,2)"
   ]
  },
  {
   "cell_type": "code",
   "execution_count": 53,
   "metadata": {},
   "outputs": [
    {
     "data": {
      "text/plain": [
       "56.85833333333333"
      ]
     },
     "execution_count": 53,
     "metadata": {},
     "output_type": "execute_result"
    }
   ],
   "source": [
    "(africa_recovery_rate + asia_recovery_rate + europe_recovery_rate + south_america_recovery_rate + north_america_recovery_rate + oceania_recovery_rate)/6 "
   ]
  },
  {
   "cell_type": "code",
   "execution_count": 54,
   "metadata": {},
   "outputs": [
    {
     "data": {
      "text/plain": [
       "<function sum(iterable, /, start=0)>"
      ]
     },
     "execution_count": 54,
     "metadata": {},
     "output_type": "execute_result"
    }
   ],
   "source": [
    "sum"
   ]
  },
  {
   "cell_type": "code",
   "execution_count": 55,
   "metadata": {},
   "outputs": [
    {
     "data": {
      "text/plain": [
       "0.12"
      ]
     },
     "execution_count": 55,
     "metadata": {},
     "output_type": "execute_result"
    }
   ],
   "source": [
    "(africa_spread_rate + asia_spread_rate + europe_spread_rate + south_america_spread_rate + north_america_spread_rate + oceania_spread_rate)/6 "
   ]
  },
  {
   "cell_type": "code",
   "execution_count": 56,
   "metadata": {},
   "outputs": [
    {
     "data": {
      "text/plain": [
       "3.86"
      ]
     },
     "execution_count": 56,
     "metadata": {},
     "output_type": "execute_result"
    }
   ],
   "source": [
    "(africa_death_rate + asia_death_rate + europe_death_rate + south_america_death_rate + north_america_death_rate + oceania_death_rate)/6 "
   ]
  },
  {
   "cell_type": "markdown",
   "metadata": {},
   "source": [
    "# AFRICA COMBINED DATA ANALYSIS"
   ]
  },
  {
   "cell_type": "code",
   "execution_count": 58,
   "metadata": {},
   "outputs": [],
   "source": [
    "confirmed=r'/home/afroteop/Desktop/corona/data/csse_covid_19_time_series_confirmed_global.csv'\n",
    "death=r'/home/afroteop/Desktop/corona/data/time_series_covid19_deaths_global.csv'\n",
    "recovered=r'/home/afroteop/Desktop/corona/data/time_series_covid19_recovered_global.csv'\n",
    "\n",
    "data_csv = pd.read_csv(r'/home/afroteop/Desktop/corona/data/Countries-Continents.csv')\n",
    "\n",
    "\n",
    "data_merge = pd.merge(right=data_csv, left=data_confirmed,\n",
    "                    how='left', right_on='Country', \n",
    "                    left_on='Country/Region')\n",
    "\n",
    "# confirmed cases\n",
    "\n",
    "africa = data_merge[data_merge['Continent']=='Africa']\n",
    "africa_total = africa[africa.columns[1]].sum()\n",
    "africa = africa[['Country/Region',africa.columns[1]]].groupby('Country/Region').sum()\n",
    "africa = africa.reset_index()\n",
    "africa = africa.sort_values(by='confirmed',ascending=False)\n",
    "africa_values = africa['confirmed'].values.tolist()\n",
    "africa_names = africa['Country/Region'].values.tolist()\n",
    "\n",
    "data_csv_death = pd.read_csv(r'/home/afroteop/Desktop/corona/data/Countries-Continents.csv')\n",
    "\n",
    "# merging the two data\n",
    "data_merge_death = pd.merge(right=data_csv_death, left=data_death,\n",
    "                         how='left', right_on='Country', \n",
    "                         left_on='Country/Region'\n",
    "                         )\n",
    "\n",
    "# death\n",
    "\n",
    "africa_death = data_merge_death[data_merge_death['Continent']=='Africa']\n",
    "africa_death_total = africa_death[africa_death.columns[1]].sum()\n",
    "africa_death = africa_death[['Country/Region',africa_death.columns[1]]].groupby('Country/Region').sum()\n",
    "africa_death = africa_death.reset_index()\n",
    "africa_death.columns=['Country/Region','death']\n",
    "africa_death = africa_death.sort_values(by='death',ascending=False)\n",
    "africa_death_values = africa_death['death'].values.tolist()\n",
    "africa_death_names = africa_death['Country/Region'].values.tolist()\n",
    "\n",
    "data_csv_recovery = pd.read_csv(r'/home/afroteop/Desktop/corona/data/Countries-Continents.csv')\n",
    "\n",
    "# merging the two data\n",
    "data_merge_recovered = pd.merge(right=data_csv_death, left=data_recovered,\n",
    "                         how='left', right_on='Country', \n",
    "                         left_on='Country/Region'\n",
    "                         )\n",
    "\n",
    "africa_recover = data_merge_recovered[data_merge_recovered['Continent']=='Africa']\n",
    "africa_recover_total = africa_recover[africa_recover.columns[1]].sum()\n",
    "africa_recover = africa_recover[['Country/Region',africa_recover.columns[1]]].groupby('Country/Region').sum()\n",
    "africa_recover = africa_recover.reset_index()\n",
    "africa_recover.columns=['Country/Region','recover']\n",
    "africa_recover = africa_recover.sort_values(by='recover',ascending=False)\n",
    "africa_recover_values = africa_recover['recover'].values.tolist()\n",
    "africa_recover_names = africa_recover['Country/Region'].values.tolist()\n",
    "\n",
    "# africa population\n",
    "\n",
    "africa_pop = 1366615222 \n",
    "\n",
    "# africa rates\n",
    "\n",
    "africa_spread_rate = (africa_total / africa_pop )*100\n",
    "africa_spread_rate = round(spread_rate,2)\n",
    "\n",
    "africa_recovery_rate = (africa_recover_total/africa_total)*100\n",
    "africa_recovery_rate =round(africa_recovery_rate,2)\n",
    "\n",
    "africa_death_rate = (africa_death_total / africa_total)*100\n",
    "africa_death_rate = round(africa_death_rate,2)"
   ]
  },
  {
   "cell_type": "markdown",
   "metadata": {},
   "source": [
    "# ASIA COMBINED DATA ANALYSIS"
   ]
  },
  {
   "cell_type": "code",
   "execution_count": 59,
   "metadata": {},
   "outputs": [],
   "source": [
    "data_csv = pd.read_csv(r'/home/afroteop/Desktop/corona/data/Countries-Continents.csv')\n",
    "\n",
    "# merging the two data\n",
    "data_merge = pd.merge(right=data_csv, left=data_confirmed,\n",
    "                    how='left', right_on='Country', \n",
    "                    left_on='Country/Region')\n",
    "\n",
    "# confirmed cases\n",
    "\n",
    "asia = data_merge[data_merge['Continent']=='Asia']\n",
    "asia_total = asia[asia.columns[1]].sum()\n",
    "asia = asia[['Country/Region',asia.columns[1]]].groupby('Country/Region').sum()\n",
    "asia = asia.reset_index()\n",
    "asia = asia.sort_values(by='confirmed',ascending=False)\n",
    "asia_values = asia['confirmed'].values.tolist()\n",
    "asia_names = asia['Country/Region'].values.tolist()\n",
    "\n",
    "# death\n",
    "\n",
    "data_csv_death = pd.read_csv(r'/home/afroteop/Desktop/corona/data/Countries-Continents.csv')\n",
    "# merging the two data\n",
    "data_merge_death = pd.merge(right=data_csv_death, left=data_death,\n",
    "                         how='left', right_on='Country', \n",
    "                         left_on='Country/Region'\n",
    "                         )\n",
    "\n",
    "asia_death = data_merge_death[data_merge_death['Continent']=='Asia']\n",
    "asia_death_total = asia_death[asia_death.columns[1]].sum()\n",
    "asia_death = asia_death[['Country/Region',asia_death.columns[1]]].groupby('Country/Region').sum()\n",
    "asia_death = asia_death.reset_index()\n",
    "asia_death.columns=['Country/Region','death']\n",
    "asia_death = asia_death.sort_values(by='death',ascending=False)\n",
    "asia_death_values = asia_death['death'].values.tolist()\n",
    "asia_death_names = asia_death['Country/Region'].values.tolist()\n",
    "\n",
    "# recovery\n",
    "\n",
    "\n",
    "data_csv_recovery = pd.read_csv(r'/home/afroteop/Desktop/corona/data/Countries-Continents.csv')\n",
    "# merging the two data\n",
    "data_merge_recovered = pd.merge(right=data_csv_death, left=data_recovered,\n",
    "                         how='left', right_on='Country', \n",
    "                         left_on='Country/Region'\n",
    "                         )\n",
    "\n",
    "asia_recover = data_merge_recovered[data_merge_recovered['Continent']=='Asia']\n",
    "asia_recover_total = asia_recover[asia_recover.columns[1]].sum()\n",
    "asia_recover = asia_recover[['Country/Region',asia_recover.columns[1]]].groupby('Country/Region').sum()\n",
    "asia_recover = asia_recover.reset_index()\n",
    "asia_recover.columns=['Country/Region','recover']\n",
    "asia_recover = asia_recover.sort_values(by='recover',ascending=False)\n",
    "asia_recover_values = asia_recover['recover'].values.tolist()\n",
    "asia_recover_names = asia_recover['Country/Region'].values.tolist()\n",
    "\n",
    "\n",
    "# asia population\n",
    "\n",
    "asia_pop = 4673362272\n",
    "\n",
    "# rates\n",
    "\n",
    "asia_spread_rate = (asia_total / asia_pop )*100\n",
    "asia_spread_rate = round(spread_rate,2)\n",
    "\n",
    "asia_recovery_rate = (asia_recover_total/asia_total)*100\n",
    "asia_recovery_rate =round(asia_recovery_rate,2)\n",
    "\n",
    "asia_death_rate = (asia_death_total / asia_total)*100\n",
    "asia_death_rate = round(asia_death_rate,2)"
   ]
  },
  {
   "cell_type": "markdown",
   "metadata": {},
   "source": [
    "# EUROPE COMBINED DATA ANALYSIS"
   ]
  },
  {
   "cell_type": "code",
   "execution_count": 60,
   "metadata": {},
   "outputs": [],
   "source": [
    "# confirmed\n",
    "\n",
    "data_csv = pd.read_csv(r'/home/afroteop/Desktop/corona/data/Countries-Continents.csv')\n",
    "\n",
    "# merging the two data\n",
    "data_merge = pd.merge(right=data_csv, left=data_confirmed,\n",
    "                    how='left', right_on='Country', \n",
    "                    left_on='Country/Region')\n",
    "\n",
    "europe = data_merge[data_merge['Continent']=='Europe']\n",
    "europe_total = europe[europe.columns[1]].sum()\n",
    "europe = europe[['Country/Region',europe.columns[1]]].groupby('Country/Region').sum()\n",
    "europe = europe.reset_index()\n",
    "europe = europe.sort_values(by='confirmed',ascending=False)\n",
    "europe_values = europe['confirmed'].values.tolist()\n",
    "europe_names = europe['Country/Region'].values.tolist()\n",
    "\n",
    "\n",
    "# death\n",
    "\n",
    "data_csv_death = pd.read_csv(r'/home/afroteop/Desktop/corona/data/Countries-Continents.csv')\n",
    "# merging the two data\n",
    "data_merge_death = pd.merge(right=data_csv_death, left=data_death,\n",
    "                         how='left', right_on='Country', \n",
    "                         left_on='Country/Region'\n",
    "                         )\n",
    "\n",
    "europe_death = data_merge_death[data_merge_death['Continent']=='Europe']\n",
    "europe_death_total = europe_death[europe_death.columns[1]].sum()\n",
    "europe_death = europe_death[['Country/Region',europe_death.columns[1]]].groupby('Country/Region').sum()\n",
    "europe_death = europe_death.reset_index()\n",
    "europe_death.columns=['Country/Region','death']\n",
    "europe_death = europe_death.sort_values(by='death',ascending=False)\n",
    "europe_death_values = europe_death['death'].values.tolist()\n",
    "europe_death_names = europe_death['Country/Region'].values.tolist()\n",
    "\n",
    "\n",
    "# recovery\n",
    "\n",
    "data_csv_recovery = pd.read_csv(r'/home/afroteop/Desktop/corona/data/Countries-Continents.csv')\n",
    "# merging the two data\n",
    "data_merge_recovered = pd.merge(right=data_csv_death, left=data_recovered,\n",
    "                         how='left', right_on='Country', \n",
    "                         left_on='Country/Region'\n",
    "                         )\n",
    "\n",
    "europe_recover = data_merge_recovered[data_merge_recovered['Continent']=='Europe']\n",
    "europe_recover_total = europe_recover[europe_recover.columns[1]].sum()\n",
    "europe_recover = europe_recover[['Country/Region',europe_recover.columns[1]]].groupby('Country/Region').sum()\n",
    "europe_recover = europe_recover.reset_index()\n",
    "europe_recover.columns=['Country/Region','recover']\n",
    "europe_recover = europe_recover.sort_values(by='recover',ascending=False)\n",
    "europe_recover_values = europe_recover['recover'].values.tolist()\n",
    "europe_recover_names = europe_recover['Country/Region'].values.tolist()\n",
    "\n",
    "\n",
    "# europe pop\n",
    "\n",
    "europe_pop = 748008331\n",
    "\n",
    "# rates\n",
    "\n",
    "europe_spread_rate = (europe_total / europe_pop )*100\n",
    "europe_spread_rate = round(spread_rate,2)\n",
    "\n",
    "europe_recovery_rate = (europe_recover_total/europe_total)*100\n",
    "europe_recovery_rate =round(europe_recovery_rate,2)\n",
    "\n",
    "europe_death_rate = (europe_death_total / europe_total)*100\n",
    "europe_death_rate = round(europe_death_rate,2)\n"
   ]
  },
  {
   "cell_type": "markdown",
   "metadata": {},
   "source": [
    "# SOUTH AMERICA COMBINED DATA ANALYSIS"
   ]
  },
  {
   "cell_type": "code",
   "execution_count": 61,
   "metadata": {},
   "outputs": [],
   "source": [
    "# confirmed cases\n",
    "\n",
    "data_csv = pd.read_csv(r'/home/afroteop/Desktop/corona/data/Countries-Continents.csv')\n",
    "\n",
    "# merging the two data\n",
    "data_merge = pd.merge(right=data_csv, left=data_confirmed,\n",
    "                    how='left', right_on='Country', \n",
    "                    left_on='Country/Region')\n",
    "\n",
    "south_america = data_merge[data_merge['Continent']=='South America']\n",
    "south_america_total = south_america[south_america.columns[1]].sum()\n",
    "south_america  = south_america [['Country/Region',south_america .columns[1]]].groupby('Country/Region').sum()\n",
    "south_america  = south_america .reset_index()\n",
    "south_america  = south_america .sort_values(by='confirmed',ascending=False)\n",
    "south_america_values = south_america ['confirmed'].values.tolist()\n",
    "south_america_names = south_america ['Country/Region'].values.tolist()\n",
    "\n",
    "\n",
    "# death\n",
    "\n",
    "data_csv_death = pd.read_csv(r'/home/afroteop/Desktop/corona/data/Countries-Continents.csv')\n",
    "# merging the two data\n",
    "data_merge_death = pd.merge(right=data_csv_death, left=data_death,\n",
    "                         how='left', right_on='Country', \n",
    "                         left_on='Country/Region'\n",
    "                         )\n",
    "south_america_death = data_merge_death[data_merge_death['Continent']=='South America']\n",
    "south_america_death_total = south_america_death[south_america_death.columns[1]].sum()\n",
    "south_america_death = south_america_death[['Country/Region',south_america_death.columns[1]]].groupby('Country/Region').sum()\n",
    "south_america_death = south_america_death.reset_index()\n",
    "south_america_death.columns=['Country/Region','death']\n",
    "south_america_death = south_america_death.sort_values(by='death',ascending=False)\n",
    "south_america_death_values = south_america_death['death'].values.tolist()\n",
    "south_america_death_names = south_america_death['Country/Region'].values.tolist()\n",
    "\n",
    "# recovery\n",
    "\n",
    "data_csv_recovery = pd.read_csv(r'/home/afroteop/Desktop/corona/data/Countries-Continents.csv')\n",
    "# merging the two data\n",
    "data_merge_recovered = pd.merge(right=data_csv_death, left=data_recovered,\n",
    "                         how='left', right_on='Country', \n",
    "                         left_on='Country/Region'\n",
    "                         )\n",
    "\n",
    "south_america_recover = data_merge_recovered[data_merge_recovered['Continent']=='South America']\n",
    "south_america_recover_total = south_america_recover[south_america_recover.columns[1]].sum()\n",
    "south_america_recover = south_america_recover[['Country/Region',south_america_recover.columns[1]]].groupby('Country/Region').sum()\n",
    "south_america_recover = south_america_recover.reset_index()\n",
    "south_america_recover.columns=['Country/Region','recover']\n",
    "south_america_recover = south_america_recover.sort_values(by='recover',ascending=False)\n",
    "south_america_recover_values = south_america_recover['recover'].values.tolist()\n",
    "south_america_recover_names = south_america_recover['Country/Region'].values.tolist()\n",
    "\n",
    "# south america\n",
    "\n",
    "south_america_pop = 658715917\n",
    "\n",
    "# rates\n",
    "\n",
    "south_america_spread_rate = (south_america_total / south_america_pop )*100\n",
    "south_america_spread_rate = round(spread_rate,2)\n",
    "\n",
    "south_america_recovery_rate = (south_america_recover_total/south_america_total)*100\n",
    "south_america_recovery_rate =round(south_america_recovery_rate,2)\n",
    "\n",
    "south_america_death_rate = (south_america_death_total / south_america_total)*100\n",
    "south_america_death_rate = round(south_america_death_rate,2)"
   ]
  },
  {
   "cell_type": "markdown",
   "metadata": {},
   "source": [
    "# NORTH AMERICA COMBINED DATA ANALYSIS"
   ]
  },
  {
   "cell_type": "code",
   "execution_count": 62,
   "metadata": {},
   "outputs": [],
   "source": [
    "# confirmed\n",
    "\n",
    "data_csv = pd.read_csv(r'/home/afroteop/Desktop/corona/data/Countries-Continents.csv')\n",
    "\n",
    "# merging the two data\n",
    "data_merge = pd.merge(right=data_csv, left=data_confirmed,\n",
    "                    how='left', right_on='Country', \n",
    "                    left_on='Country/Region')\n",
    "\n",
    "north_america = data_merge[data_merge['Continent']=='North America']\n",
    "north_america_total = north_america[north_america.columns[1]].sum()\n",
    "north_america  = north_america[['Country/Region',north_america .columns[1]]].groupby('Country/Region').sum()\n",
    "north_america  = north_america.reset_index()\n",
    "north_america  = north_america.sort_values(by='confirmed',ascending=False)\n",
    "north_america_values = north_america['confirmed'].values.tolist()\n",
    "north_america_names = north_america['Country/Region'].values.tolist()\n",
    "\n",
    "# death\n",
    "\n",
    "data_csv_death = pd.read_csv(r'/home/afroteop/Desktop/corona/data/Countries-Continents.csv')\n",
    "# merging the two data\n",
    "data_merge_death = pd.merge(right=data_csv_death, left=data_death,\n",
    "                         how='left', right_on='Country', \n",
    "                         left_on='Country/Region'\n",
    "                         )\n",
    "\n",
    "north_america_death = data_merge_death[data_merge_death['Continent']=='North America']\n",
    "north_america_death_total = south_america_death[south_america_death.columns[1]].sum()\n",
    "north_america_death = north_america_death[['Country/Region',north_america_death.columns[1]]].groupby('Country/Region').sum()\n",
    "north_america_death = north_america_death.reset_index()\n",
    "north_america_death.columns=['Country/Region','death']\n",
    "north_america_death = north_america_death.sort_values(by='death',ascending=False)\n",
    "north_america_death_values = north_america_death['death'].values.tolist()\n",
    "north_america_death_names = north_america_death['Country/Region'].values.tolist()\n",
    "\n",
    "# recovery\n",
    "\n",
    "data_csv_recovery = pd.read_csv(r'/home/afroteop/Desktop/corona/data/Countries-Continents.csv')\n",
    "# merging the two data\n",
    "data_merge_recovered = pd.merge(right=data_csv_death, left=data_recovered,\n",
    "                         how='left', right_on='Country', \n",
    "                         left_on='Country/Region'\n",
    "                         )\n",
    "\n",
    "north_america_recover = data_merge_recovered[data_merge_recovered['Continent']=='North America']\n",
    "north_america_recover_total = north_america_recover[north_america_recover.columns[1]].sum()\n",
    "north_america_recover = north_america_recover[['Country/Region',north_america_recover.columns[1]]].groupby('Country/Region').sum()\n",
    "north_america_recover = north_america_recover.reset_index()\n",
    "north_america_recover.columns=['Country/Region','recover']\n",
    "north_america_recover = north_america_recover.sort_values(by='recover',ascending=False)\n",
    "north_america_recover_values = north_america_recover['recover'].values.tolist()\n",
    "north_america_recover_names = north_america_recover['Country/Region'].values.tolist()\n",
    "\n",
    "# north pop\n",
    "\n",
    "north_america_pop = 370721616\n",
    "\n",
    "north_america_spread_rate = (north_america_total / north_america_pop )*100\n",
    "north_america_spread_rate = round(spread_rate,2)\n",
    "\n",
    "north_america_recovery_rate = (north_america_recover_total/north_america_total)*100\n",
    "north_america_recovery_rate =round(south_america_recovery_rate,2)\n",
    "\n",
    "north_america_death_rate = (north_america_death_total / north_america_total)*100\n",
    "north_america_death_rate = round(north_america_death_rate,2)\n",
    "\n"
   ]
  },
  {
   "cell_type": "markdown",
   "metadata": {},
   "source": [
    "# OCEANIA COMBINED DATA ANALYSIS"
   ]
  },
  {
   "cell_type": "code",
   "execution_count": 63,
   "metadata": {},
   "outputs": [],
   "source": [
    "# confirmed\n",
    "\n",
    "data_csv = pd.read_csv(r'/home/afroteop/Desktop/corona/data/Countries-Continents.csv')\n",
    "\n",
    "# merging the two data\n",
    "data_merge = pd.merge(right=data_csv, left=data_confirmed,\n",
    "                    how='left', right_on='Country', \n",
    "                    left_on='Country/Region')\n",
    "\n",
    "\n",
    "oceania = data_merge[data_merge['Continent']=='Oceania']\n",
    "oceania_total = oceania[oceania.columns[1]].sum()\n",
    "oceania  = oceania [['Country/Region',oceania .columns[1]]].groupby('Country/Region').sum()\n",
    "oceania  = oceania .reset_index()\n",
    "oceania  = oceania .sort_values(by='confirmed',ascending=False)\n",
    "oceania_values = oceania['confirmed'].values.tolist()\n",
    "oceania_names = oceania['Country/Region'].values.tolist()\n",
    "\n",
    "# death\n",
    "\n",
    "data_csv_death = pd.read_csv(r'/home/afroteop/Desktop/corona/data/Countries-Continents.csv')\n",
    "# merging the two data\n",
    "data_merge_death = pd.merge(right=data_csv_death, left=data_death,\n",
    "                         how='left', right_on='Country', \n",
    "                         left_on='Country/Region'\n",
    "                         )\n",
    "\n",
    "oceania_death = data_merge_death[data_merge_death['Continent']=='Oceania']\n",
    "oceania_death_total = oceania_death[oceania_death.columns[1]].sum()\n",
    "oceania_death  = oceania_death [['Country/Region',oceania_death.columns[1]]].groupby('Country/Region').sum()\n",
    "oceania_death  = oceania_death .reset_index()\n",
    "oceania_death  = oceania_death .sort_values(by='death',ascending=False)\n",
    "oceania_death_values = oceania_death['death'].values.tolist()\n",
    "oceania_death_names = oceania_death['Country/Region'].values.tolist()\n",
    "\n",
    "\n",
    "# recovery\n",
    "\n",
    "data_csv_recovery = pd.read_csv(r'/home/afroteop/Desktop/corona/data/Countries-Continents.csv')\n",
    "# merging the two data\n",
    "data_merge_recovered = pd.merge(right=data_csv_death, left=data_recovered,\n",
    "                         how='left', right_on='Country', \n",
    "                         left_on='Country/Region'\n",
    "                         )\n",
    "oceania_recover = data_merge_recovered[data_merge_recovered['Continent']=='Oceania']\n",
    "oceania_recover_total = oceania_recover[oceania_recover.columns[1]].sum()\n",
    "oceania_recover = oceania_recover[['Country/Region',oceania_recover.columns[1]]].groupby('Country/Region').sum()\n",
    "oceania_recover = oceania_recover.reset_index()\n",
    "oceania_recover.columns=['Country/Region','recover']\n",
    "oceania_recover = oceania_recover.sort_values(by='recover',ascending=False)\n",
    "oceania_recover_values = oceania_recover['recover'].values.tolist()\n",
    "oceania_recover_names = oceania_recover['Country/Region'].values.tolist()\n",
    "\n",
    "# oceania pop\n",
    "\n",
    "oceania_pop = 43123223\n",
    "\n",
    "oceania_spread_rate = (oceania_total / oceania_pop )*100\n",
    "oceania_spread_rate = round(spread_rate,2)\n",
    "\n",
    "oceania_recovery_rate = (oceania_recover_total / oceania_total)*100\n",
    "oceania_recovery_rate =round(asia_recovery_rate,2)\n",
    "\n",
    "oceania_death_rate = (oceania_death_total / oceania_total)*100\n",
    "oceania_death_rate = round(oceania_death_rate,2)\n",
    "\n"
   ]
  },
  {
   "cell_type": "code",
   "execution_count": null,
   "metadata": {},
   "outputs": [],
   "source": []
  }
 ],
 "metadata": {
  "kernelspec": {
   "display_name": "Python 3",
   "language": "python",
   "name": "python3"
  },
  "language_info": {
   "codemirror_mode": {
    "name": "ipython",
    "version": 3
   },
   "file_extension": ".py",
   "mimetype": "text/x-python",
   "name": "python",
   "nbconvert_exporter": "python",
   "pygments_lexer": "ipython3",
   "version": "3.8.5"
  }
 },
 "nbformat": 4,
 "nbformat_minor": 4
}
